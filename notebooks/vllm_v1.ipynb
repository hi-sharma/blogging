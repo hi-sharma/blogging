{
 "cells": [
  {
   "cell_type": "code",
   "execution_count": null,
   "metadata": {},
   "outputs": [],
   "source": []
  },
  {
   "cell_type": "markdown",
   "metadata": {},
   "source": [
    "# DeepSeek LM examples"
   ]
  },
  {
   "cell_type": "code",
   "execution_count": null,
   "metadata": {},
   "outputs": [],
   "source": [
    "from vllm import LLM, SamplingParams\n",
    "\n",
    "GPU_UTILIZATION=0.98\n",
    "model_id = \"deepseek-ai/deepseek-llm-7b-base\"\n",
    "prompt = [\"Tell me a joke\"]*100\n",
    "\n",
    "sampling_params = SamplingParams(temperature=0.7, top_p=0.9, max_tokens=100)\n",
    "llm = LLM(model=model_id, gpu_memory_utilization=GPU_UTILIZATION)\n",
    "out = llm.generate(prompt, sampling_params)\n",
    "\n",
    "answer = [output.outputs[0].text for output in out]\n",
    "print(answer)\n"
   ]
  },
  {
   "cell_type": "markdown",
   "metadata": {},
   "source": [
    "# Qwen VLM example"
   ]
  },
  {
   "cell_type": "code",
   "execution_count": null,
   "metadata": {},
   "outputs": [],
   "source": [
    "# VLM: Here we will use Qwen Model to describe the images:\n",
    "from tqdm import tqdm\n",
    "from PIL import Image\n",
    "from qwen_vl_utils import process_vision_info\n",
    "from transformers import AutoProcessor\n",
    "from vllm import LLM, SamplingParams\n",
    "\n",
    "GPU_UTILIZATION=0.98\n",
    "model_id = \"Qwen/Qwen2-VL-7B-Instruct\"\n",
    "base_prompt = \"Describe the image\"\n",
    "# Provide your image or use the demo image from https://qianwen-res.oss-cn-beijing.aliyuncs.com/Qwen-VL/assets/demo.jpeg\n",
    "image_list = [\"demo.jpeg\"]*100 \n",
    "\n",
    "\n",
    "# Load Model and Tokenizer\n",
    "processor = AutoProcessor.from_pretrained(model_id)\n",
    "sampling_params = SamplingParams(temperature=0.7, top_p=0.8, max_tokens=512)\n",
    "llm = LLM(model=model_id, gpu_memory_utilisation=GPU_UTILIZATION)"
   ]
  },
  {
   "cell_type": "code",
   "execution_count": null,
   "metadata": {},
   "outputs": [],
   "source": [
    "vllm_input = []\n",
    "for image in tqdm(image_list):\n",
    "    messages = [\n",
    "        {\"role\": \"user\", \"content\": [\n",
    "            {\n",
    "                \"type\": \"image\",\n",
    "                \"image\": image\n",
    "            },\n",
    "            {\n",
    "                \"type\": \"text\",\n",
    "                \"text\": base_prompt,\n",
    "            },\n",
    "        ]}\n",
    "    ]\n",
    "    prompt = processor.apply_chat_template(\n",
    "        messages,\n",
    "        tokenize=False,\n",
    "        add_generation_prompt=True\n",
    "    )\n",
    "    image_inputs, _ = process_vision_info(messages)\n",
    "    multimodal_data = {}\n",
    "    if image_inputs:\n",
    "        multimodal_data['image'] = image_inputs\n",
    "    vllm_input.append({\n",
    "        'prompt': prompt,\n",
    "        'multi_modal_data': multimodal_data,\n",
    "    })\n",
    "    \n",
    "    out = llm.generate(vllm_input, sampling_params)\n",
    "    answer = [o.outputs[0].text.strip() for o in out]\n",
    "print(answer)"
   ]
  }
 ],
 "metadata": {
  "kernelspec": {
   "display_name": "Python 3",
   "language": "python",
   "name": "python3"
  },
  "language_info": {
   "name": "python",
   "version": "3.9.6"
  }
 },
 "nbformat": 4,
 "nbformat_minor": 2
}
